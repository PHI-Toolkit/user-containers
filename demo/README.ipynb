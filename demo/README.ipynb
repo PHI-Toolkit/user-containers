{
 "cells": [
  {
   "cell_type": "markdown",
   "metadata": {},
   "source": [
    "# Welcome!\n",
    "\n",
    "The site contains a collection of Jupyter notebooks that use the\n",
    "[Datascience Tables](http://github.com/data-8/datascience) dataframe abstraction. The GitHub repository for the `examples` folder can be found [here](https://github.com/data-8/tables-notebooks). The GitHub repository for the `textbook` folder can be found [here](https://github.com/data-8/textbook). All notebooks are unevaulated, you can use this site to run any of them. **Note: new notebooks and changes to existing notebooks will NOT be saved.** Please download any work that you would like to save.\n",
    "\n",
    "Below is a description of the content in each of these folders.\n",
    "\n",
    "## `textbook`\n",
    "\n",
    "The content in this folder comes from the textbook [Computational and Inferentinal Thinking: The Foundations of Data Science](https://www.inferentialthinking.com/). In the `notebooks` folder, you can find all the notebooks used in the textbook. \n",
    "\n",
    "## `examples`\n",
    "\n",
    "* Blank.ipynb - blank notebook that is a usefuyl starting point for creating your own\n",
    "* RollingDice.ipynb - illustration of basic probability theory with rolling dice in Tables     \n",
    "* ProbabilityBirthdaySurprise.ipynb - more involved illustration of probability theory where sequences are useful\n",
    "* Census.ipynb - access and draw interesting insights easily from census data\n",
    "* BirthweightRegression.ipynb - regression and inference on simple smoking and birthweight data set\n",
    "* Clicks.ipynb - analyss of clickstream data as per Doing Data Science\n",
    "* BerkeleySalary.ipynb - large complex analysis of open data from the city of Berkeley           \n",
    "* HealthSample.ipynb - realistic analysis of health survey data              \n",
    "* UCB_study.ipynb - organizational analysis of teaching and resources in a public university"
   ]
  }
 ],
 "metadata": {
  "kernelspec": {
   "display_name": "Python 3",
   "language": "python",
   "name": "python3"
  },
  "language_info": {
   "codemirror_mode": {
    "name": "ipython",
    "version": 3
   },
   "file_extension": ".py",
   "mimetype": "text/x-python",
   "name": "python",
   "nbconvert_exporter": "python",
   "pygments_lexer": "ipython3",
   "version": "3.5.2"
  }
 },
 "nbformat": 4,
 "nbformat_minor": 2
}
