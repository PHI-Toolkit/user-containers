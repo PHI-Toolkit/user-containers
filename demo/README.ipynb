{
 "cells": [
  {
   "cell_type": "markdown",
   "metadata": {
    "deletable": true,
    "editable": true
   },
   "source": [
    "# Welcome!\n",
    "\n",
    "The site contains a collection of Jupyter notebooks that use the\n",
    "[Datascience Tables](http://github.com/data-8/datascience) dataframe abstraction. The GitHub repository for the `assignments` folder can be found [here](https://github.com/data-8/data8assets). The GitHub repository for the `textbook` folder can be found [here](https://github.com/data-8/textbook). The GitHub repository for the `examples` folder can be found [here](https://github.com/data-8/tables-notebooks). You can run and modify any of the existing notebooks in these folders. **Note: new notebooks and changes to existing notebooks will NOT be saved.** Please download any work that you would like to save.\n",
    "\n",
    "Below is a description of the content in each of the folders.\n",
    "\n",
    "## `assignments`\n",
    "\n",
    "The `assignments/materials/sp17` folder contains homeworks, labs, projects, and tutoring materials from Data 8. If you are unable to access the notebooks linked on the Data 8 [course site](http://data8.org/sp17/) under the `Assignment` column, they can all be found in this folder. \n",
    "\n",
    "The `assignments/lec/sp17` folder contains demo notebooks and the corresponding datasets from lectures. If you are unable to access the `Demos` linked on the Data 8 [course site](http://data8.org/sp17/) under the `Lecture` column, they can all be found in this folder. \n",
    "\n",
    "\n",
    "## `textbook`\n",
    "\n",
    "The content in this folder comes from the textbook [Computational and Inferentinal Thinking: The Foundations of Data Science](https://www.inferentialthinking.com/). The `index.ipynb` notebook contains links to notebooks, grouped by chapter. In the `notebooks` folder, you can find all the notebooks used in the textbook. \n",
    "\n",
    "## `examples`\n",
    "\n",
    "* Blank.ipynb - blank notebook that is a useful starting point for creating your own\n",
    "* RollingDice.ipynb - illustration of basic probability theory with rolling dice in Tables     \n",
    "* ProbabilityBirthdaySurprise.ipynb - more involved illustration of probability theory where sequences are useful\n",
    "* Census.ipynb - access and draw interesting insights easily from census data\n",
    "* BirthweightRegression.ipynb - regression and inference on simple smoking and birthweight data set\n",
    "* Clicks.ipynb - analysis of clickstream data as per Doing Data Science\n",
    "* BerkeleySalary.ipynb - large complex analysis of open data from the city of Berkeley\n",
    "* HealthSample.ipynb - realistic analysis of health survey data              \n",
    "* UCB_study.ipynb - organizational analysis of teaching and resources in a public university"
   ]
  }
 ],
 "metadata": {
  "kernelspec": {
   "display_name": "Python 3",
   "language": "python",
   "name": "python3"
  },
  "language_info": {
   "codemirror_mode": {
    "name": "ipython",
    "version": 3
   },
   "file_extension": ".py",
   "mimetype": "text/x-python",
   "name": "python",
   "nbconvert_exporter": "python",
   "pygments_lexer": "ipython3",
   "version": "3.5.2"
  }
 },
 "nbformat": 4,
 "nbformat_minor": 2
}
